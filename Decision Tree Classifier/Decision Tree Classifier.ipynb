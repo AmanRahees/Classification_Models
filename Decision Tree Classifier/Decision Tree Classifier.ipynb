{
 "cells": [
  {
   "cell_type": "code",
   "execution_count": 1,
   "id": "e45f6cc5",
   "metadata": {},
   "outputs": [],
   "source": [
    "import pandas as pd\n",
    "import numpy as np\n",
    "import matplotlib.pyplot as plt\n",
    "import seaborn as sns"
   ]
  },
  {
   "cell_type": "code",
   "execution_count": 2,
   "id": "3af2ddbc",
   "metadata": {},
   "outputs": [],
   "source": [
    "data = pd.read_csv('star_classification.csv')"
   ]
  },
  {
   "cell_type": "markdown",
   "id": "b012acb5",
   "metadata": {},
   "source": [
    "## Data Exploration"
   ]
  },
  {
   "cell_type": "code",
   "execution_count": 3,
   "id": "b5bab42c",
   "metadata": {},
   "outputs": [
    {
     "data": {
      "text/html": [
       "<div>\n",
       "<style scoped>\n",
       "    .dataframe tbody tr th:only-of-type {\n",
       "        vertical-align: middle;\n",
       "    }\n",
       "\n",
       "    .dataframe tbody tr th {\n",
       "        vertical-align: top;\n",
       "    }\n",
       "\n",
       "    .dataframe thead th {\n",
       "        text-align: right;\n",
       "    }\n",
       "</style>\n",
       "<table border=\"1\" class=\"dataframe\">\n",
       "  <thead>\n",
       "    <tr style=\"text-align: right;\">\n",
       "      <th></th>\n",
       "      <th>obj_ID</th>\n",
       "      <th>alpha</th>\n",
       "      <th>delta</th>\n",
       "      <th>u</th>\n",
       "      <th>g</th>\n",
       "      <th>r</th>\n",
       "      <th>i</th>\n",
       "      <th>z</th>\n",
       "      <th>run_ID</th>\n",
       "      <th>rerun_ID</th>\n",
       "      <th>cam_col</th>\n",
       "      <th>field_ID</th>\n",
       "      <th>spec_obj_ID</th>\n",
       "      <th>class</th>\n",
       "      <th>redshift</th>\n",
       "      <th>plate</th>\n",
       "      <th>MJD</th>\n",
       "      <th>fiber_ID</th>\n",
       "    </tr>\n",
       "  </thead>\n",
       "  <tbody>\n",
       "    <tr>\n",
       "      <th>0</th>\n",
       "      <td>1.237661e+18</td>\n",
       "      <td>135.689107</td>\n",
       "      <td>32.494632</td>\n",
       "      <td>23.87882</td>\n",
       "      <td>22.27530</td>\n",
       "      <td>20.39501</td>\n",
       "      <td>19.16573</td>\n",
       "      <td>18.79371</td>\n",
       "      <td>3606</td>\n",
       "      <td>301</td>\n",
       "      <td>2</td>\n",
       "      <td>79</td>\n",
       "      <td>6.543777e+18</td>\n",
       "      <td>GALAXY</td>\n",
       "      <td>0.634794</td>\n",
       "      <td>5812</td>\n",
       "      <td>56354</td>\n",
       "      <td>171</td>\n",
       "    </tr>\n",
       "    <tr>\n",
       "      <th>1</th>\n",
       "      <td>1.237665e+18</td>\n",
       "      <td>144.826101</td>\n",
       "      <td>31.274185</td>\n",
       "      <td>24.77759</td>\n",
       "      <td>22.83188</td>\n",
       "      <td>22.58444</td>\n",
       "      <td>21.16812</td>\n",
       "      <td>21.61427</td>\n",
       "      <td>4518</td>\n",
       "      <td>301</td>\n",
       "      <td>5</td>\n",
       "      <td>119</td>\n",
       "      <td>1.176014e+19</td>\n",
       "      <td>GALAXY</td>\n",
       "      <td>0.779136</td>\n",
       "      <td>10445</td>\n",
       "      <td>58158</td>\n",
       "      <td>427</td>\n",
       "    </tr>\n",
       "    <tr>\n",
       "      <th>2</th>\n",
       "      <td>1.237661e+18</td>\n",
       "      <td>142.188790</td>\n",
       "      <td>35.582444</td>\n",
       "      <td>25.26307</td>\n",
       "      <td>22.66389</td>\n",
       "      <td>20.60976</td>\n",
       "      <td>19.34857</td>\n",
       "      <td>18.94827</td>\n",
       "      <td>3606</td>\n",
       "      <td>301</td>\n",
       "      <td>2</td>\n",
       "      <td>120</td>\n",
       "      <td>5.152200e+18</td>\n",
       "      <td>GALAXY</td>\n",
       "      <td>0.644195</td>\n",
       "      <td>4576</td>\n",
       "      <td>55592</td>\n",
       "      <td>299</td>\n",
       "    </tr>\n",
       "    <tr>\n",
       "      <th>3</th>\n",
       "      <td>1.237663e+18</td>\n",
       "      <td>338.741038</td>\n",
       "      <td>-0.402828</td>\n",
       "      <td>22.13682</td>\n",
       "      <td>23.77656</td>\n",
       "      <td>21.61162</td>\n",
       "      <td>20.50454</td>\n",
       "      <td>19.25010</td>\n",
       "      <td>4192</td>\n",
       "      <td>301</td>\n",
       "      <td>3</td>\n",
       "      <td>214</td>\n",
       "      <td>1.030107e+19</td>\n",
       "      <td>GALAXY</td>\n",
       "      <td>0.932346</td>\n",
       "      <td>9149</td>\n",
       "      <td>58039</td>\n",
       "      <td>775</td>\n",
       "    </tr>\n",
       "    <tr>\n",
       "      <th>4</th>\n",
       "      <td>1.237680e+18</td>\n",
       "      <td>345.282593</td>\n",
       "      <td>21.183866</td>\n",
       "      <td>19.43718</td>\n",
       "      <td>17.58028</td>\n",
       "      <td>16.49747</td>\n",
       "      <td>15.97711</td>\n",
       "      <td>15.54461</td>\n",
       "      <td>8102</td>\n",
       "      <td>301</td>\n",
       "      <td>3</td>\n",
       "      <td>137</td>\n",
       "      <td>6.891865e+18</td>\n",
       "      <td>GALAXY</td>\n",
       "      <td>0.116123</td>\n",
       "      <td>6121</td>\n",
       "      <td>56187</td>\n",
       "      <td>842</td>\n",
       "    </tr>\n",
       "  </tbody>\n",
       "</table>\n",
       "</div>"
      ],
      "text/plain": [
       "         obj_ID       alpha      delta         u         g         r  \\\n",
       "0  1.237661e+18  135.689107  32.494632  23.87882  22.27530  20.39501   \n",
       "1  1.237665e+18  144.826101  31.274185  24.77759  22.83188  22.58444   \n",
       "2  1.237661e+18  142.188790  35.582444  25.26307  22.66389  20.60976   \n",
       "3  1.237663e+18  338.741038  -0.402828  22.13682  23.77656  21.61162   \n",
       "4  1.237680e+18  345.282593  21.183866  19.43718  17.58028  16.49747   \n",
       "\n",
       "          i         z  run_ID  rerun_ID  cam_col  field_ID   spec_obj_ID  \\\n",
       "0  19.16573  18.79371    3606       301        2        79  6.543777e+18   \n",
       "1  21.16812  21.61427    4518       301        5       119  1.176014e+19   \n",
       "2  19.34857  18.94827    3606       301        2       120  5.152200e+18   \n",
       "3  20.50454  19.25010    4192       301        3       214  1.030107e+19   \n",
       "4  15.97711  15.54461    8102       301        3       137  6.891865e+18   \n",
       "\n",
       "    class  redshift  plate    MJD  fiber_ID  \n",
       "0  GALAXY  0.634794   5812  56354       171  \n",
       "1  GALAXY  0.779136  10445  58158       427  \n",
       "2  GALAXY  0.644195   4576  55592       299  \n",
       "3  GALAXY  0.932346   9149  58039       775  \n",
       "4  GALAXY  0.116123   6121  56187       842  "
      ]
     },
     "execution_count": 3,
     "metadata": {},
     "output_type": "execute_result"
    }
   ],
   "source": [
    "data.head()"
   ]
  },
  {
   "cell_type": "code",
   "execution_count": 4,
   "id": "e099348b",
   "metadata": {},
   "outputs": [
    {
     "data": {
      "text/plain": [
       "(100000, 18)"
      ]
     },
     "execution_count": 4,
     "metadata": {},
     "output_type": "execute_result"
    }
   ],
   "source": [
    "data.shape"
   ]
  },
  {
   "cell_type": "code",
   "execution_count": 5,
   "id": "be94b21a",
   "metadata": {},
   "outputs": [
    {
     "data": {
      "text/plain": [
       "Index(['obj_ID', 'alpha', 'delta', 'u', 'g', 'r', 'i', 'z', 'run_ID',\n",
       "       'rerun_ID', 'cam_col', 'field_ID', 'spec_obj_ID', 'class', 'redshift',\n",
       "       'plate', 'MJD', 'fiber_ID'],\n",
       "      dtype='object')"
      ]
     },
     "execution_count": 5,
     "metadata": {},
     "output_type": "execute_result"
    }
   ],
   "source": [
    "data.columns"
   ]
  },
  {
   "cell_type": "code",
   "execution_count": 6,
   "id": "d8a56c6a",
   "metadata": {},
   "outputs": [
    {
     "name": "stdout",
     "output_type": "stream",
     "text": [
      "<class 'pandas.core.frame.DataFrame'>\n",
      "RangeIndex: 100000 entries, 0 to 99999\n",
      "Data columns (total 18 columns):\n",
      " #   Column       Non-Null Count   Dtype  \n",
      "---  ------       --------------   -----  \n",
      " 0   obj_ID       100000 non-null  float64\n",
      " 1   alpha        100000 non-null  float64\n",
      " 2   delta        100000 non-null  float64\n",
      " 3   u            100000 non-null  float64\n",
      " 4   g            100000 non-null  float64\n",
      " 5   r            100000 non-null  float64\n",
      " 6   i            100000 non-null  float64\n",
      " 7   z            100000 non-null  float64\n",
      " 8   run_ID       100000 non-null  int64  \n",
      " 9   rerun_ID     100000 non-null  int64  \n",
      " 10  cam_col      100000 non-null  int64  \n",
      " 11  field_ID     100000 non-null  int64  \n",
      " 12  spec_obj_ID  100000 non-null  float64\n",
      " 13  class        100000 non-null  object \n",
      " 14  redshift     100000 non-null  float64\n",
      " 15  plate        100000 non-null  int64  \n",
      " 16  MJD          100000 non-null  int64  \n",
      " 17  fiber_ID     100000 non-null  int64  \n",
      "dtypes: float64(10), int64(7), object(1)\n",
      "memory usage: 13.7+ MB\n"
     ]
    }
   ],
   "source": [
    "data.info()"
   ]
  },
  {
   "cell_type": "code",
   "execution_count": 7,
   "id": "6b865217",
   "metadata": {},
   "outputs": [
    {
     "data": {
      "text/html": [
       "<div>\n",
       "<style scoped>\n",
       "    .dataframe tbody tr th:only-of-type {\n",
       "        vertical-align: middle;\n",
       "    }\n",
       "\n",
       "    .dataframe tbody tr th {\n",
       "        vertical-align: top;\n",
       "    }\n",
       "\n",
       "    .dataframe thead th {\n",
       "        text-align: right;\n",
       "    }\n",
       "</style>\n",
       "<table border=\"1\" class=\"dataframe\">\n",
       "  <thead>\n",
       "    <tr style=\"text-align: right;\">\n",
       "      <th></th>\n",
       "      <th>count</th>\n",
       "      <th>mean</th>\n",
       "      <th>std</th>\n",
       "      <th>min</th>\n",
       "      <th>25%</th>\n",
       "      <th>50%</th>\n",
       "      <th>75%</th>\n",
       "      <th>max</th>\n",
       "    </tr>\n",
       "  </thead>\n",
       "  <tbody>\n",
       "    <tr>\n",
       "      <th>obj_ID</th>\n",
       "      <td>100000.0</td>\n",
       "      <td>1.237665e+18</td>\n",
       "      <td>8.438560e+12</td>\n",
       "      <td>1.237646e+18</td>\n",
       "      <td>1.237659e+18</td>\n",
       "      <td>1.237663e+18</td>\n",
       "      <td>1.237668e+18</td>\n",
       "      <td>1.237681e+18</td>\n",
       "    </tr>\n",
       "    <tr>\n",
       "      <th>alpha</th>\n",
       "      <td>100000.0</td>\n",
       "      <td>1.776291e+02</td>\n",
       "      <td>9.650224e+01</td>\n",
       "      <td>5.527828e-03</td>\n",
       "      <td>1.275182e+02</td>\n",
       "      <td>1.809007e+02</td>\n",
       "      <td>2.338950e+02</td>\n",
       "      <td>3.599998e+02</td>\n",
       "    </tr>\n",
       "    <tr>\n",
       "      <th>delta</th>\n",
       "      <td>100000.0</td>\n",
       "      <td>2.413530e+01</td>\n",
       "      <td>1.964467e+01</td>\n",
       "      <td>-1.878533e+01</td>\n",
       "      <td>5.146771e+00</td>\n",
       "      <td>2.364592e+01</td>\n",
       "      <td>3.990155e+01</td>\n",
       "      <td>8.300052e+01</td>\n",
       "    </tr>\n",
       "    <tr>\n",
       "      <th>u</th>\n",
       "      <td>100000.0</td>\n",
       "      <td>2.198047e+01</td>\n",
       "      <td>3.176929e+01</td>\n",
       "      <td>-9.999000e+03</td>\n",
       "      <td>2.035235e+01</td>\n",
       "      <td>2.217914e+01</td>\n",
       "      <td>2.368744e+01</td>\n",
       "      <td>3.278139e+01</td>\n",
       "    </tr>\n",
       "    <tr>\n",
       "      <th>g</th>\n",
       "      <td>100000.0</td>\n",
       "      <td>2.053139e+01</td>\n",
       "      <td>3.175029e+01</td>\n",
       "      <td>-9.999000e+03</td>\n",
       "      <td>1.896523e+01</td>\n",
       "      <td>2.109983e+01</td>\n",
       "      <td>2.212377e+01</td>\n",
       "      <td>3.160224e+01</td>\n",
       "    </tr>\n",
       "    <tr>\n",
       "      <th>r</th>\n",
       "      <td>100000.0</td>\n",
       "      <td>1.964576e+01</td>\n",
       "      <td>1.854760e+00</td>\n",
       "      <td>9.822070e+00</td>\n",
       "      <td>1.813583e+01</td>\n",
       "      <td>2.012529e+01</td>\n",
       "      <td>2.104478e+01</td>\n",
       "      <td>2.957186e+01</td>\n",
       "    </tr>\n",
       "    <tr>\n",
       "      <th>i</th>\n",
       "      <td>100000.0</td>\n",
       "      <td>1.908485e+01</td>\n",
       "      <td>1.757895e+00</td>\n",
       "      <td>9.469903e+00</td>\n",
       "      <td>1.773228e+01</td>\n",
       "      <td>1.940514e+01</td>\n",
       "      <td>2.039650e+01</td>\n",
       "      <td>3.214147e+01</td>\n",
       "    </tr>\n",
       "    <tr>\n",
       "      <th>z</th>\n",
       "      <td>100000.0</td>\n",
       "      <td>1.866881e+01</td>\n",
       "      <td>3.172815e+01</td>\n",
       "      <td>-9.999000e+03</td>\n",
       "      <td>1.746068e+01</td>\n",
       "      <td>1.900460e+01</td>\n",
       "      <td>1.992112e+01</td>\n",
       "      <td>2.938374e+01</td>\n",
       "    </tr>\n",
       "    <tr>\n",
       "      <th>run_ID</th>\n",
       "      <td>100000.0</td>\n",
       "      <td>4.481366e+03</td>\n",
       "      <td>1.964765e+03</td>\n",
       "      <td>1.090000e+02</td>\n",
       "      <td>3.187000e+03</td>\n",
       "      <td>4.188000e+03</td>\n",
       "      <td>5.326000e+03</td>\n",
       "      <td>8.162000e+03</td>\n",
       "    </tr>\n",
       "    <tr>\n",
       "      <th>rerun_ID</th>\n",
       "      <td>100000.0</td>\n",
       "      <td>3.010000e+02</td>\n",
       "      <td>0.000000e+00</td>\n",
       "      <td>3.010000e+02</td>\n",
       "      <td>3.010000e+02</td>\n",
       "      <td>3.010000e+02</td>\n",
       "      <td>3.010000e+02</td>\n",
       "      <td>3.010000e+02</td>\n",
       "    </tr>\n",
       "    <tr>\n",
       "      <th>cam_col</th>\n",
       "      <td>100000.0</td>\n",
       "      <td>3.511610e+00</td>\n",
       "      <td>1.586912e+00</td>\n",
       "      <td>1.000000e+00</td>\n",
       "      <td>2.000000e+00</td>\n",
       "      <td>4.000000e+00</td>\n",
       "      <td>5.000000e+00</td>\n",
       "      <td>6.000000e+00</td>\n",
       "    </tr>\n",
       "    <tr>\n",
       "      <th>field_ID</th>\n",
       "      <td>100000.0</td>\n",
       "      <td>1.861305e+02</td>\n",
       "      <td>1.490111e+02</td>\n",
       "      <td>1.100000e+01</td>\n",
       "      <td>8.200000e+01</td>\n",
       "      <td>1.460000e+02</td>\n",
       "      <td>2.410000e+02</td>\n",
       "      <td>9.890000e+02</td>\n",
       "    </tr>\n",
       "    <tr>\n",
       "      <th>spec_obj_ID</th>\n",
       "      <td>100000.0</td>\n",
       "      <td>5.783882e+18</td>\n",
       "      <td>3.324016e+18</td>\n",
       "      <td>2.995191e+17</td>\n",
       "      <td>2.844138e+18</td>\n",
       "      <td>5.614883e+18</td>\n",
       "      <td>8.332144e+18</td>\n",
       "      <td>1.412694e+19</td>\n",
       "    </tr>\n",
       "    <tr>\n",
       "      <th>redshift</th>\n",
       "      <td>100000.0</td>\n",
       "      <td>5.766608e-01</td>\n",
       "      <td>7.307073e-01</td>\n",
       "      <td>-9.970667e-03</td>\n",
       "      <td>5.451684e-02</td>\n",
       "      <td>4.241733e-01</td>\n",
       "      <td>7.041543e-01</td>\n",
       "      <td>7.011245e+00</td>\n",
       "    </tr>\n",
       "    <tr>\n",
       "      <th>plate</th>\n",
       "      <td>100000.0</td>\n",
       "      <td>5.137010e+03</td>\n",
       "      <td>2.952303e+03</td>\n",
       "      <td>2.660000e+02</td>\n",
       "      <td>2.526000e+03</td>\n",
       "      <td>4.987000e+03</td>\n",
       "      <td>7.400250e+03</td>\n",
       "      <td>1.254700e+04</td>\n",
       "    </tr>\n",
       "    <tr>\n",
       "      <th>MJD</th>\n",
       "      <td>100000.0</td>\n",
       "      <td>5.558865e+04</td>\n",
       "      <td>1.808484e+03</td>\n",
       "      <td>5.160800e+04</td>\n",
       "      <td>5.423400e+04</td>\n",
       "      <td>5.586850e+04</td>\n",
       "      <td>5.677700e+04</td>\n",
       "      <td>5.893200e+04</td>\n",
       "    </tr>\n",
       "    <tr>\n",
       "      <th>fiber_ID</th>\n",
       "      <td>100000.0</td>\n",
       "      <td>4.493127e+02</td>\n",
       "      <td>2.724984e+02</td>\n",
       "      <td>1.000000e+00</td>\n",
       "      <td>2.210000e+02</td>\n",
       "      <td>4.330000e+02</td>\n",
       "      <td>6.450000e+02</td>\n",
       "      <td>1.000000e+03</td>\n",
       "    </tr>\n",
       "  </tbody>\n",
       "</table>\n",
       "</div>"
      ],
      "text/plain": [
       "                count          mean           std           min           25%  \\\n",
       "obj_ID       100000.0  1.237665e+18  8.438560e+12  1.237646e+18  1.237659e+18   \n",
       "alpha        100000.0  1.776291e+02  9.650224e+01  5.527828e-03  1.275182e+02   \n",
       "delta        100000.0  2.413530e+01  1.964467e+01 -1.878533e+01  5.146771e+00   \n",
       "u            100000.0  2.198047e+01  3.176929e+01 -9.999000e+03  2.035235e+01   \n",
       "g            100000.0  2.053139e+01  3.175029e+01 -9.999000e+03  1.896523e+01   \n",
       "r            100000.0  1.964576e+01  1.854760e+00  9.822070e+00  1.813583e+01   \n",
       "i            100000.0  1.908485e+01  1.757895e+00  9.469903e+00  1.773228e+01   \n",
       "z            100000.0  1.866881e+01  3.172815e+01 -9.999000e+03  1.746068e+01   \n",
       "run_ID       100000.0  4.481366e+03  1.964765e+03  1.090000e+02  3.187000e+03   \n",
       "rerun_ID     100000.0  3.010000e+02  0.000000e+00  3.010000e+02  3.010000e+02   \n",
       "cam_col      100000.0  3.511610e+00  1.586912e+00  1.000000e+00  2.000000e+00   \n",
       "field_ID     100000.0  1.861305e+02  1.490111e+02  1.100000e+01  8.200000e+01   \n",
       "spec_obj_ID  100000.0  5.783882e+18  3.324016e+18  2.995191e+17  2.844138e+18   \n",
       "redshift     100000.0  5.766608e-01  7.307073e-01 -9.970667e-03  5.451684e-02   \n",
       "plate        100000.0  5.137010e+03  2.952303e+03  2.660000e+02  2.526000e+03   \n",
       "MJD          100000.0  5.558865e+04  1.808484e+03  5.160800e+04  5.423400e+04   \n",
       "fiber_ID     100000.0  4.493127e+02  2.724984e+02  1.000000e+00  2.210000e+02   \n",
       "\n",
       "                      50%           75%           max  \n",
       "obj_ID       1.237663e+18  1.237668e+18  1.237681e+18  \n",
       "alpha        1.809007e+02  2.338950e+02  3.599998e+02  \n",
       "delta        2.364592e+01  3.990155e+01  8.300052e+01  \n",
       "u            2.217914e+01  2.368744e+01  3.278139e+01  \n",
       "g            2.109983e+01  2.212377e+01  3.160224e+01  \n",
       "r            2.012529e+01  2.104478e+01  2.957186e+01  \n",
       "i            1.940514e+01  2.039650e+01  3.214147e+01  \n",
       "z            1.900460e+01  1.992112e+01  2.938374e+01  \n",
       "run_ID       4.188000e+03  5.326000e+03  8.162000e+03  \n",
       "rerun_ID     3.010000e+02  3.010000e+02  3.010000e+02  \n",
       "cam_col      4.000000e+00  5.000000e+00  6.000000e+00  \n",
       "field_ID     1.460000e+02  2.410000e+02  9.890000e+02  \n",
       "spec_obj_ID  5.614883e+18  8.332144e+18  1.412694e+19  \n",
       "redshift     4.241733e-01  7.041543e-01  7.011245e+00  \n",
       "plate        4.987000e+03  7.400250e+03  1.254700e+04  \n",
       "MJD          5.586850e+04  5.677700e+04  5.893200e+04  \n",
       "fiber_ID     4.330000e+02  6.450000e+02  1.000000e+03  "
      ]
     },
     "execution_count": 7,
     "metadata": {},
     "output_type": "execute_result"
    }
   ],
   "source": [
    "data.describe().T"
   ]
  },
  {
   "cell_type": "code",
   "execution_count": 8,
   "id": "b34a276c",
   "metadata": {},
   "outputs": [
    {
     "data": {
      "text/plain": [
       "False"
      ]
     },
     "execution_count": 8,
     "metadata": {},
     "output_type": "execute_result"
    }
   ],
   "source": [
    "data.isna().values.any()"
   ]
  },
  {
   "cell_type": "code",
   "execution_count": 9,
   "id": "acf0c9ed",
   "metadata": {
    "scrolled": false
   },
   "outputs": [
    {
     "data": {
      "text/plain": [
       "GALAXY    59445\n",
       "STAR      21594\n",
       "QSO       18961\n",
       "Name: class, dtype: int64"
      ]
     },
     "execution_count": 9,
     "metadata": {},
     "output_type": "execute_result"
    }
   ],
   "source": [
    "data['class'].value_counts()"
   ]
  },
  {
   "cell_type": "markdown",
   "id": "d037d0e9",
   "metadata": {},
   "source": [
    "### Coverting Categorical to Numerical"
   ]
  },
  {
   "cell_type": "code",
   "execution_count": 10,
   "id": "ba784920",
   "metadata": {},
   "outputs": [],
   "source": [
    "data['class'] = data['class'].map({'GALAXY':0, 'STAR':1, 'QSO':2})"
   ]
  },
  {
   "cell_type": "code",
   "execution_count": 11,
   "id": "c6e33e7b",
   "metadata": {},
   "outputs": [
    {
     "data": {
      "text/html": [
       "<div>\n",
       "<style scoped>\n",
       "    .dataframe tbody tr th:only-of-type {\n",
       "        vertical-align: middle;\n",
       "    }\n",
       "\n",
       "    .dataframe tbody tr th {\n",
       "        vertical-align: top;\n",
       "    }\n",
       "\n",
       "    .dataframe thead th {\n",
       "        text-align: right;\n",
       "    }\n",
       "</style>\n",
       "<table border=\"1\" class=\"dataframe\">\n",
       "  <thead>\n",
       "    <tr style=\"text-align: right;\">\n",
       "      <th></th>\n",
       "      <th>obj_ID</th>\n",
       "      <th>alpha</th>\n",
       "      <th>delta</th>\n",
       "      <th>u</th>\n",
       "      <th>g</th>\n",
       "      <th>r</th>\n",
       "      <th>i</th>\n",
       "      <th>z</th>\n",
       "      <th>run_ID</th>\n",
       "      <th>rerun_ID</th>\n",
       "      <th>cam_col</th>\n",
       "      <th>field_ID</th>\n",
       "      <th>spec_obj_ID</th>\n",
       "      <th>class</th>\n",
       "      <th>redshift</th>\n",
       "      <th>plate</th>\n",
       "      <th>MJD</th>\n",
       "      <th>fiber_ID</th>\n",
       "    </tr>\n",
       "  </thead>\n",
       "  <tbody>\n",
       "    <tr>\n",
       "      <th>0</th>\n",
       "      <td>1.237661e+18</td>\n",
       "      <td>135.689107</td>\n",
       "      <td>32.494632</td>\n",
       "      <td>23.87882</td>\n",
       "      <td>22.27530</td>\n",
       "      <td>20.39501</td>\n",
       "      <td>19.16573</td>\n",
       "      <td>18.79371</td>\n",
       "      <td>3606</td>\n",
       "      <td>301</td>\n",
       "      <td>2</td>\n",
       "      <td>79</td>\n",
       "      <td>6.543777e+18</td>\n",
       "      <td>0</td>\n",
       "      <td>0.634794</td>\n",
       "      <td>5812</td>\n",
       "      <td>56354</td>\n",
       "      <td>171</td>\n",
       "    </tr>\n",
       "    <tr>\n",
       "      <th>1</th>\n",
       "      <td>1.237665e+18</td>\n",
       "      <td>144.826101</td>\n",
       "      <td>31.274185</td>\n",
       "      <td>24.77759</td>\n",
       "      <td>22.83188</td>\n",
       "      <td>22.58444</td>\n",
       "      <td>21.16812</td>\n",
       "      <td>21.61427</td>\n",
       "      <td>4518</td>\n",
       "      <td>301</td>\n",
       "      <td>5</td>\n",
       "      <td>119</td>\n",
       "      <td>1.176014e+19</td>\n",
       "      <td>0</td>\n",
       "      <td>0.779136</td>\n",
       "      <td>10445</td>\n",
       "      <td>58158</td>\n",
       "      <td>427</td>\n",
       "    </tr>\n",
       "    <tr>\n",
       "      <th>2</th>\n",
       "      <td>1.237661e+18</td>\n",
       "      <td>142.188790</td>\n",
       "      <td>35.582444</td>\n",
       "      <td>25.26307</td>\n",
       "      <td>22.66389</td>\n",
       "      <td>20.60976</td>\n",
       "      <td>19.34857</td>\n",
       "      <td>18.94827</td>\n",
       "      <td>3606</td>\n",
       "      <td>301</td>\n",
       "      <td>2</td>\n",
       "      <td>120</td>\n",
       "      <td>5.152200e+18</td>\n",
       "      <td>0</td>\n",
       "      <td>0.644195</td>\n",
       "      <td>4576</td>\n",
       "      <td>55592</td>\n",
       "      <td>299</td>\n",
       "    </tr>\n",
       "    <tr>\n",
       "      <th>3</th>\n",
       "      <td>1.237663e+18</td>\n",
       "      <td>338.741038</td>\n",
       "      <td>-0.402828</td>\n",
       "      <td>22.13682</td>\n",
       "      <td>23.77656</td>\n",
       "      <td>21.61162</td>\n",
       "      <td>20.50454</td>\n",
       "      <td>19.25010</td>\n",
       "      <td>4192</td>\n",
       "      <td>301</td>\n",
       "      <td>3</td>\n",
       "      <td>214</td>\n",
       "      <td>1.030107e+19</td>\n",
       "      <td>0</td>\n",
       "      <td>0.932346</td>\n",
       "      <td>9149</td>\n",
       "      <td>58039</td>\n",
       "      <td>775</td>\n",
       "    </tr>\n",
       "    <tr>\n",
       "      <th>4</th>\n",
       "      <td>1.237680e+18</td>\n",
       "      <td>345.282593</td>\n",
       "      <td>21.183866</td>\n",
       "      <td>19.43718</td>\n",
       "      <td>17.58028</td>\n",
       "      <td>16.49747</td>\n",
       "      <td>15.97711</td>\n",
       "      <td>15.54461</td>\n",
       "      <td>8102</td>\n",
       "      <td>301</td>\n",
       "      <td>3</td>\n",
       "      <td>137</td>\n",
       "      <td>6.891865e+18</td>\n",
       "      <td>0</td>\n",
       "      <td>0.116123</td>\n",
       "      <td>6121</td>\n",
       "      <td>56187</td>\n",
       "      <td>842</td>\n",
       "    </tr>\n",
       "  </tbody>\n",
       "</table>\n",
       "</div>"
      ],
      "text/plain": [
       "         obj_ID       alpha      delta         u         g         r  \\\n",
       "0  1.237661e+18  135.689107  32.494632  23.87882  22.27530  20.39501   \n",
       "1  1.237665e+18  144.826101  31.274185  24.77759  22.83188  22.58444   \n",
       "2  1.237661e+18  142.188790  35.582444  25.26307  22.66389  20.60976   \n",
       "3  1.237663e+18  338.741038  -0.402828  22.13682  23.77656  21.61162   \n",
       "4  1.237680e+18  345.282593  21.183866  19.43718  17.58028  16.49747   \n",
       "\n",
       "          i         z  run_ID  rerun_ID  cam_col  field_ID   spec_obj_ID  \\\n",
       "0  19.16573  18.79371    3606       301        2        79  6.543777e+18   \n",
       "1  21.16812  21.61427    4518       301        5       119  1.176014e+19   \n",
       "2  19.34857  18.94827    3606       301        2       120  5.152200e+18   \n",
       "3  20.50454  19.25010    4192       301        3       214  1.030107e+19   \n",
       "4  15.97711  15.54461    8102       301        3       137  6.891865e+18   \n",
       "\n",
       "   class  redshift  plate    MJD  fiber_ID  \n",
       "0      0  0.634794   5812  56354       171  \n",
       "1      0  0.779136  10445  58158       427  \n",
       "2      0  0.644195   4576  55592       299  \n",
       "3      0  0.932346   9149  58039       775  \n",
       "4      0  0.116123   6121  56187       842  "
      ]
     },
     "execution_count": 11,
     "metadata": {},
     "output_type": "execute_result"
    }
   ],
   "source": [
    "data.head()"
   ]
  },
  {
   "cell_type": "code",
   "execution_count": 12,
   "id": "d23edd7f",
   "metadata": {
    "scrolled": true
   },
   "outputs": [
    {
     "data": {
      "text/plain": [
       "0    59445\n",
       "1    21594\n",
       "2    18961\n",
       "Name: class, dtype: int64"
      ]
     },
     "execution_count": 12,
     "metadata": {},
     "output_type": "execute_result"
    }
   ],
   "source": [
    "data['class'].value_counts()"
   ]
  },
  {
   "cell_type": "markdown",
   "id": "d52ae206",
   "metadata": {},
   "source": [
    "#### This Dataset is highly Unbalanced"
   ]
  },
  {
   "cell_type": "code",
   "execution_count": 13,
   "id": "6c0a1385",
   "metadata": {},
   "outputs": [
    {
     "data": {
      "text/plain": [
       "<AxesSubplot: xlabel='class', ylabel='count'>"
      ]
     },
     "execution_count": 13,
     "metadata": {},
     "output_type": "execute_result"
    },
    {
     "data": {
      "image/png": "[encoded data removed]",
      "text/plain": [
       "<Figure size 640x480 with 1 Axes>"
      ]
     },
     "metadata": {},
     "output_type": "display_data"
    }
   ],
   "source": [
    "sns.countplot(x='class', data=data)"
   ]
  },
  {
   "cell_type": "code",
   "execution_count": 14,
   "id": "223755c4",
   "metadata": {},
   "outputs": [],
   "source": [
    "Galaxy = data[data['class'] == 0]\n",
    "Star = data[data['class'] == 1]\n",
    "QSO = data[data['class'] == 2]"
   ]
  },
  {
   "cell_type": "code",
   "execution_count": 15,
   "id": "5303efd5",
   "metadata": {},
   "outputs": [
    {
     "data": {
      "text/plain": [
       "((59445, 18), (21594, 18), (18961, 18))"
      ]
     },
     "execution_count": 15,
     "metadata": {},
     "output_type": "execute_result"
    }
   ],
   "source": [
    "Galaxy.shape, Star.shape, QSO.shape"
   ]
  },
  {
   "cell_type": "markdown",
   "id": "e2f29778",
   "metadata": {},
   "source": [
    "## Under Sampling"
   ]
  },
  {
   "cell_type": "code",
   "execution_count": 16,
   "id": "48d5a4f4",
   "metadata": {},
   "outputs": [],
   "source": [
    "# Building a sample dataset containing similiar distributions of all classes\n",
    "\n",
    "Galaxy_sample = Galaxy.sample(n=18961)\n",
    "Star_sample = Star.sample(n=18961)"
   ]
  },
  {
   "cell_type": "code",
   "execution_count": 17,
   "id": "ff65e850",
   "metadata": {},
   "outputs": [],
   "source": [
    "new_data = pd.concat([Galaxy_sample, Star_sample, QSO], axis=0)"
   ]
  },
  {
   "cell_type": "code",
   "execution_count": 18,
   "id": "cdb13dae",
   "metadata": {},
   "outputs": [
    {
     "data": {
      "text/html": [
       "<div>\n",
       "<style scoped>\n",
       "    .dataframe tbody tr th:only-of-type {\n",
       "        vertical-align: middle;\n",
       "    }\n",
       "\n",
       "    .dataframe tbody tr th {\n",
       "        vertical-align: top;\n",
       "    }\n",
       "\n",
       "    .dataframe thead th {\n",
       "        text-align: right;\n",
       "    }\n",
       "</style>\n",
       "<table border=\"1\" class=\"dataframe\">\n",
       "  <thead>\n",
       "    <tr style=\"text-align: right;\">\n",
       "      <th></th>\n",
       "      <th>obj_ID</th>\n",
       "      <th>alpha</th>\n",
       "      <th>delta</th>\n",
       "      <th>u</th>\n",
       "      <th>g</th>\n",
       "      <th>r</th>\n",
       "      <th>i</th>\n",
       "      <th>z</th>\n",
       "      <th>run_ID</th>\n",
       "      <th>rerun_ID</th>\n",
       "      <th>cam_col</th>\n",
       "      <th>field_ID</th>\n",
       "      <th>spec_obj_ID</th>\n",
       "      <th>class</th>\n",
       "      <th>redshift</th>\n",
       "      <th>plate</th>\n",
       "      <th>MJD</th>\n",
       "      <th>fiber_ID</th>\n",
       "    </tr>\n",
       "  </thead>\n",
       "  <tbody>\n",
       "    <tr>\n",
       "      <th>40829</th>\n",
       "      <td>1.237679e+18</td>\n",
       "      <td>357.727785</td>\n",
       "      <td>-1.653275</td>\n",
       "      <td>21.80726</td>\n",
       "      <td>22.26542</td>\n",
       "      <td>21.35353</td>\n",
       "      <td>20.86273</td>\n",
       "      <td>21.20089</td>\n",
       "      <td>7778</td>\n",
       "      <td>301</td>\n",
       "      <td>5</td>\n",
       "      <td>301</td>\n",
       "      <td>1.036739e+19</td>\n",
       "      <td>0</td>\n",
       "      <td>0.694638</td>\n",
       "      <td>9208</td>\n",
       "      <td>57688</td>\n",
       "      <td>365</td>\n",
       "    </tr>\n",
       "    <tr>\n",
       "      <th>99340</th>\n",
       "      <td>1.237659e+18</td>\n",
       "      <td>209.944426</td>\n",
       "      <td>52.690526</td>\n",
       "      <td>24.91512</td>\n",
       "      <td>22.71158</td>\n",
       "      <td>20.94594</td>\n",
       "      <td>19.83579</td>\n",
       "      <td>19.42219</td>\n",
       "      <td>3180</td>\n",
       "      <td>301</td>\n",
       "      <td>4</td>\n",
       "      <td>49</td>\n",
       "      <td>7.587557e+18</td>\n",
       "      <td>0</td>\n",
       "      <td>0.565487</td>\n",
       "      <td>6739</td>\n",
       "      <td>56393</td>\n",
       "      <td>427</td>\n",
       "    </tr>\n",
       "    <tr>\n",
       "      <th>27111</th>\n",
       "      <td>1.237671e+18</td>\n",
       "      <td>153.234580</td>\n",
       "      <td>15.604293</td>\n",
       "      <td>19.57425</td>\n",
       "      <td>17.97929</td>\n",
       "      <td>17.08999</td>\n",
       "      <td>16.66104</td>\n",
       "      <td>16.33393</td>\n",
       "      <td>5972</td>\n",
       "      <td>301</td>\n",
       "      <td>5</td>\n",
       "      <td>252</td>\n",
       "      <td>2.913944e+18</td>\n",
       "      <td>0</td>\n",
       "      <td>0.072718</td>\n",
       "      <td>2588</td>\n",
       "      <td>54174</td>\n",
       "      <td>418</td>\n",
       "    </tr>\n",
       "    <tr>\n",
       "      <th>89928</th>\n",
       "      <td>1.237666e+18</td>\n",
       "      <td>31.493908</td>\n",
       "      <td>-0.995489</td>\n",
       "      <td>20.05276</td>\n",
       "      <td>19.25919</td>\n",
       "      <td>18.49010</td>\n",
       "      <td>18.17092</td>\n",
       "      <td>17.94290</td>\n",
       "      <td>4874</td>\n",
       "      <td>301</td>\n",
       "      <td>1</td>\n",
       "      <td>631</td>\n",
       "      <td>1.695663e+18</td>\n",
       "      <td>0</td>\n",
       "      <td>0.249058</td>\n",
       "      <td>1506</td>\n",
       "      <td>53003</td>\n",
       "      <td>211</td>\n",
       "    </tr>\n",
       "    <tr>\n",
       "      <th>39077</th>\n",
       "      <td>1.237663e+18</td>\n",
       "      <td>342.148653</td>\n",
       "      <td>0.095574</td>\n",
       "      <td>20.93081</td>\n",
       "      <td>19.44124</td>\n",
       "      <td>18.60705</td>\n",
       "      <td>18.06540</td>\n",
       "      <td>17.80285</td>\n",
       "      <td>4192</td>\n",
       "      <td>301</td>\n",
       "      <td>4</td>\n",
       "      <td>237</td>\n",
       "      <td>4.734656e+18</td>\n",
       "      <td>0</td>\n",
       "      <td>0.147185</td>\n",
       "      <td>4205</td>\n",
       "      <td>55454</td>\n",
       "      <td>898</td>\n",
       "    </tr>\n",
       "  </tbody>\n",
       "</table>\n",
       "</div>"
      ],
      "text/plain": [
       "             obj_ID       alpha      delta         u         g         r  \\\n",
       "40829  1.237679e+18  357.727785  -1.653275  21.80726  22.26542  21.35353   \n",
       "99340  1.237659e+18  209.944426  52.690526  24.91512  22.71158  20.94594   \n",
       "27111  1.237671e+18  153.234580  15.604293  19.57425  17.97929  17.08999   \n",
       "89928  1.237666e+18   31.493908  -0.995489  20.05276  19.25919  18.49010   \n",
       "39077  1.237663e+18  342.148653   0.095574  20.93081  19.44124  18.60705   \n",
       "\n",
       "              i         z  run_ID  rerun_ID  cam_col  field_ID   spec_obj_ID  \\\n",
       "40829  20.86273  21.20089    7778       301        5       301  1.036739e+19   \n",
       "99340  19.83579  19.42219    3180       301        4        49  7.587557e+18   \n",
       "27111  16.66104  16.33393    5972       301        5       252  2.913944e+18   \n",
       "89928  18.17092  17.94290    4874       301        1       631  1.695663e+18   \n",
       "39077  18.06540  17.80285    4192       301        4       237  4.734656e+18   \n",
       "\n",
       "       class  redshift  plate    MJD  fiber_ID  \n",
       "40829      0  0.694638   9208  57688       365  \n",
       "99340      0  0.565487   6739  56393       427  \n",
       "27111      0  0.072718   2588  54174       418  \n",
       "89928      0  0.249058   1506  53003       211  \n",
       "39077      0  0.147185   4205  55454       898  "
      ]
     },
     "execution_count": 18,
     "metadata": {},
     "output_type": "execute_result"
    }
   ],
   "source": [
    "new_data.head()"
   ]
  },
  {
   "cell_type": "code",
   "execution_count": 19,
   "id": "d8a51e3d",
   "metadata": {},
   "outputs": [
    {
     "data": {
      "text/plain": [
       "0    18961\n",
       "1    18961\n",
       "2    18961\n",
       "Name: class, dtype: int64"
      ]
     },
     "execution_count": 19,
     "metadata": {},
     "output_type": "execute_result"
    }
   ],
   "source": [
    "new_data['class'].value_counts()"
   ]
  },
  {
   "cell_type": "code",
   "execution_count": 20,
   "id": "f989dd7c",
   "metadata": {},
   "outputs": [
    {
     "data": {
      "text/plain": [
       "<AxesSubplot: xlabel='class', ylabel='count'>"
      ]
     },
     "execution_count": 20,
     "metadata": {},
     "output_type": "execute_result"
    },
    {
     "data": {
      "image/png": "[encoded data removed]",
      "text/plain": [
       "<Figure size 640x480 with 1 Axes>"
      ]
     },
     "metadata": {},
     "output_type": "display_data"
    }
   ],
   "source": [
    "sns.countplot(x='class', data=new_data)"
   ]
  },
  {
   "cell_type": "markdown",
   "id": "699a8722",
   "metadata": {},
   "source": [
    "#### Now the distributions of classes are Equallly Distributed"
   ]
  },
  {
   "cell_type": "markdown",
   "id": "5e1b9828",
   "metadata": {},
   "source": [
    "# Splitting Feature & Target Variables"
   ]
  },
  {
   "cell_type": "code",
   "execution_count": 21,
   "id": "f5fdda7a",
   "metadata": {},
   "outputs": [],
   "source": [
    "x = new_data.drop('class', axis=1)\n",
    "y = new_data['class']"
   ]
  },
  {
   "cell_type": "code",
   "execution_count": 22,
   "id": "813202a9",
   "metadata": {},
   "outputs": [],
   "source": [
    "from sklearn.model_selection import train_test_split\n",
    "\n",
    "x_train, x_test, y_train, y_test = train_test_split(x, y, test_size=0.3, stratify=y, random_state=0)"
   ]
  },
  {
   "cell_type": "code",
   "execution_count": 23,
   "id": "ffe89ac9",
   "metadata": {},
   "outputs": [
    {
     "data": {
      "text/plain": [
       "((39818, 17), (17065, 17), (39818,), (17065,))"
      ]
     },
     "execution_count": 23,
     "metadata": {},
     "output_type": "execute_result"
    }
   ],
   "source": [
    "x_train.shape, x_test.shape, y_train.shape, y_test.shape"
   ]
  },
  {
   "cell_type": "markdown",
   "id": "933c2742",
   "metadata": {},
   "source": [
    "# Model Building"
   ]
  },
  {
   "cell_type": "code",
   "execution_count": 24,
   "id": "45ba9339",
   "metadata": {},
   "outputs": [],
   "source": [
    "from sklearn.tree import DecisionTreeClassifier\n",
    "\n",
    "model = DecisionTreeClassifier()"
   ]
  },
  {
   "cell_type": "code",
   "execution_count": 25,
   "id": "d9b4afbb",
   "metadata": {},
   "outputs": [
    {
     "data": {
      "text/html": [
       "<style>#sk-container-id-1 {color: black;background-color: white;}#sk-container-id-1 pre{padding: 0;}#sk-container-id-1 div.sk-toggleable {background-color: white;}#sk-container-id-1 label.sk-toggleable__label {cursor: pointer;display: block;width: 100%;margin-bottom: 0;padding: 0.3em;box-sizing: border-box;text-align: center;}#sk-container-id-1 label.sk-toggleable__label-arrow:before {content: \"▸\";float: left;margin-right: 0.25em;color: #696969;}#sk-container-id-1 label.sk-toggleable__label-arrow:hover:before {color: black;}#sk-container-id-1 div.sk-estimator:hover label.sk-toggleable__label-arrow:before {color: black;}#sk-container-id-1 div.sk-toggleable__content {max-height: 0;max-width: 0;overflow: hidden;text-align: left;background-color: #f0f8ff;}#sk-container-id-1 div.sk-toggleable__content pre {margin: 0.2em;color: black;border-radius: 0.25em;background-color: #f0f8ff;}#sk-container-id-1 input.sk-toggleable__control:checked~div.sk-toggleable__content {max-height: 200px;max-width: 100%;overflow: auto;}#sk-container-id-1 input.sk-toggleable__control:checked~label.sk-toggleable__label-arrow:before {content: \"▾\";}#sk-container-id-1 div.sk-estimator input.sk-toggleable__control:checked~label.sk-toggleable__label {background-color: #d4ebff;}#sk-container-id-1 div.sk-label input.sk-toggleable__control:checked~label.sk-toggleable__label {background-color: #d4ebff;}#sk-container-id-1 input.sk-hidden--visually {border: 0;clip: rect(1px 1px 1px 1px);clip: rect(1px, 1px, 1px, 1px);height: 1px;margin: -1px;overflow: hidden;padding: 0;position: absolute;width: 1px;}#sk-container-id-1 div.sk-estimator {font-family: monospace;background-color: #f0f8ff;border: 1px dotted black;border-radius: 0.25em;box-sizing: border-box;margin-bottom: 0.5em;}#sk-container-id-1 div.sk-estimator:hover {background-color: #d4ebff;}#sk-container-id-1 div.sk-parallel-item::after {content: \"\";width: 100%;border-bottom: 1px solid gray;flex-grow: 1;}#sk-container-id-1 div.sk-label:hover label.sk-toggleable__label {background-color: #d4ebff;}#sk-container-id-1 div.sk-serial::before {content: \"\";position: absolute;border-left: 1px solid gray;box-sizing: border-box;top: 0;bottom: 0;left: 50%;z-index: 0;}#sk-container-id-1 div.sk-serial {display: flex;flex-direction: column;align-items: center;background-color: white;padding-right: 0.2em;padding-left: 0.2em;position: relative;}#sk-container-id-1 div.sk-item {position: relative;z-index: 1;}#sk-container-id-1 div.sk-parallel {display: flex;align-items: stretch;justify-content: center;background-color: white;position: relative;}#sk-container-id-1 div.sk-item::before, #sk-container-id-1 div.sk-parallel-item::before {content: \"\";position: absolute;border-left: 1px solid gray;box-sizing: border-box;top: 0;bottom: 0;left: 50%;z-index: -1;}#sk-container-id-1 div.sk-parallel-item {display: flex;flex-direction: column;z-index: 1;position: relative;background-color: white;}#sk-container-id-1 div.sk-parallel-item:first-child::after {align-self: flex-end;width: 50%;}#sk-container-id-1 div.sk-parallel-item:last-child::after {align-self: flex-start;width: 50%;}#sk-container-id-1 div.sk-parallel-item:only-child::after {width: 0;}#sk-container-id-1 div.sk-dashed-wrapped {border: 1px dashed gray;margin: 0 0.4em 0.5em 0.4em;box-sizing: border-box;padding-bottom: 0.4em;background-color: white;}#sk-container-id-1 div.sk-label label {font-family: monospace;font-weight: bold;display: inline-block;line-height: 1.2em;}#sk-container-id-1 div.sk-label-container {text-align: center;}#sk-container-id-1 div.sk-container {/* jupyter's `normalize.less` sets `[hidden] { display: none; }` but bootstrap.min.css set `[hidden] { display: none !important; }` so we also need the `!important` here to be able to override the default hidden behavior on the sphinx rendered scikit-learn.org. See: https://github.com/scikit-learn/scikit-learn/issues/21755 */display: inline-block !important;position: relative;}#sk-container-id-1 div.sk-text-repr-fallback {display: none;}</style><div id=\"sk-container-id-1\" class=\"sk-top-container\"><div class=\"sk-text-repr-fallback\"><pre>DecisionTreeClassifier()</pre><b>In a Jupyter environment, please rerun this cell to show the HTML representation or trust the notebook. <br />On GitHub, the HTML representation is unable to render, please try loading this page with nbviewer.org.</b></div><div class=\"sk-container\" hidden><div class=\"sk-item\"><div class=\"sk-estimator sk-toggleable\"><input class=\"sk-toggleable__control sk-hidden--visually\" id=\"sk-estimator-id-1\" type=\"checkbox\" checked><label for=\"sk-estimator-id-1\" class=\"sk-toggleable__label sk-toggleable__label-arrow\">DecisionTreeClassifier</label><div class=\"sk-toggleable__content\"><pre>DecisionTreeClassifier()</pre></div></div></div></div></div>"
      ],
      "text/plain": [
       "DecisionTreeClassifier()"
      ]
     },
     "execution_count": 25,
     "metadata": {},
     "output_type": "execute_result"
    }
   ],
   "source": [
    "model.fit(x_train, y_train)"
   ]
  },
  {
   "cell_type": "code",
   "execution_count": 26,
   "id": "8d1552b4",
   "metadata": {},
   "outputs": [
    {
     "data": {
      "text/plain": [
       "array([1, 2, 1, ..., 2, 1, 0], dtype=int64)"
      ]
     },
     "execution_count": 26,
     "metadata": {},
     "output_type": "execute_result"
    }
   ],
   "source": [
    "y_pred = model.predict(x_test)\n",
    "y_pred"
   ]
  },
  {
   "cell_type": "code",
   "execution_count": 27,
   "id": "1df8bf78",
   "metadata": {},
   "outputs": [
    {
     "name": "stdout",
     "output_type": "stream",
     "text": [
      "Accuracy : 96.06%\n"
     ]
    }
   ],
   "source": [
    "from sklearn.metrics import accuracy_score\n",
    "\n",
    "print('Accuracy : {:.2f}%'.format(accuracy_score(y_pred, y_test)*100))"
   ]
  },
  {
   "cell_type": "code",
   "execution_count": 44,
   "id": "02775d57",
   "metadata": {},
   "outputs": [
    {
     "data": {
      "image/png": "[encoded data removed]",
      "text/plain": [
       "<Figure size 1200x800 with 1 Axes>"
      ]
     },
     "metadata": {},
     "output_type": "display_data"
    }
   ],
   "source": [
    "from sklearn import tree\n",
    "\n",
    "plt.figure(figsize=(12,8))\n",
    "tree.plot_tree(model, filled=True, max_depth=2);"
   ]
  }
 ],
 "metadata": {
  "kernelspec": {
   "display_name": "myenv",
   "language": "python",
   "name": "myenv"
  },
  "language_info": {
   "codemirror_mode": {
    "name": "ipython",
    "version": 3
   },
   "file_extension": ".py",
   "mimetype": "text/x-python",
   "name": "python",
   "nbconvert_exporter": "python",
   "pygments_lexer": "ipython3",
   "version": "3.9.16"
  }
 },
 "nbformat": 4,
 "nbformat_minor": 5
}
